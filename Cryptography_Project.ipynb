{
  "nbformat": 4,
  "nbformat_minor": 0,
  "metadata": {
    "colab": {
      "name": "Cryptography_Project.ipynb",
      "provenance": [],
      "collapsed_sections": [],
      "authorship_tag": "ABX9TyOdyeUDG+3wV50QnnpGIZqF",
      "include_colab_link": true
    },
    "kernelspec": {
      "name": "python3",
      "display_name": "Python 3"
    }
  },
  "cells": [
    {
      "cell_type": "markdown",
      "metadata": {
        "id": "view-in-github",
        "colab_type": "text"
      },
      "source": [
        "<a href=\"https://colab.research.google.com/github/shinde-sneha/Cryptography-Project/blob/main/Cryptography_Project.ipynb\" target=\"_parent\"><img src=\"https://colab.research.google.com/assets/colab-badge.svg\" alt=\"Open In Colab\"/></a>"
      ]
    },
    {
      "cell_type": "code",
      "metadata": {
        "id": "631pCfBdd-qy"
      },
      "source": [
        ""
      ],
      "execution_count": null,
      "outputs": []
    },
    {
      "cell_type": "markdown",
      "metadata": {
        "id": "MXfoFhfRhSFT"
      },
      "source": [
        "###Cryptography project"
      ]
    },
    {
      "cell_type": "markdown",
      "metadata": {
        "id": "oGPncc-3iKUy"
      },
      "source": [
        "####Write a python program which converts, any given text to chiper text and whenever the key is available it should convert it back to the normal message"
      ]
    },
    {
      "cell_type": "code",
      "metadata": {
        "colab": {
          "base_uri": "https://localhost:8080/"
        },
        "id": "MVTyxrzVhYOU",
        "outputId": "36e1299b-d7fe-44f6-b5e4-3ddb28d51962"
      },
      "source": [
        "!pip install cryptography"
      ],
      "execution_count": 3,
      "outputs": [
        {
          "output_type": "stream",
          "text": [
            "Collecting cryptography\n",
            "\u001b[?25l  Downloading https://files.pythonhosted.org/packages/c9/de/7054df0620b5411ba45480f0261e1fb66a53f3db31b28e3aa52c026e72d9/cryptography-3.3.1-cp36-abi3-manylinux2010_x86_64.whl (2.6MB)\n",
            "\u001b[K     |████████████████████████████████| 2.6MB 6.6MB/s \n",
            "\u001b[?25hRequirement already satisfied: cffi>=1.12 in /usr/local/lib/python3.6/dist-packages (from cryptography) (1.14.4)\n",
            "Requirement already satisfied: six>=1.4.1 in /usr/local/lib/python3.6/dist-packages (from cryptography) (1.15.0)\n",
            "Requirement already satisfied: pycparser in /usr/local/lib/python3.6/dist-packages (from cffi>=1.12->cryptography) (2.20)\n",
            "Installing collected packages: cryptography\n",
            "Successfully installed cryptography-3.3.1\n"
          ],
          "name": "stdout"
        }
      ]
    },
    {
      "cell_type": "code",
      "metadata": {
        "id": "jzDwfVlgjo3e"
      },
      "source": [
        "from cryptography.fernet import Fernet"
      ],
      "execution_count": 4,
      "outputs": []
    },
    {
      "cell_type": "code",
      "metadata": {
        "id": "pra1fRNTjy8d"
      },
      "source": [
        "def generatePassKey():\r\n",
        "  key=Fernet.generate_key()\r\n",
        "  print(key)\r\n",
        "  print(type(key))\r\n",
        "  abc = open(\"PasswordKey.key\",'wb')\r\n",
        "  abc.write(key)\r\n",
        "  abc.close()"
      ],
      "execution_count": 6,
      "outputs": []
    },
    {
      "cell_type": "code",
      "metadata": {
        "colab": {
          "base_uri": "https://localhost:8080/"
        },
        "id": "mwzoM_2fky0Y",
        "outputId": "89044780-422b-4a91-d9bb-4e2f7b647a9b"
      },
      "source": [
        "generatePassKey()"
      ],
      "execution_count": 7,
      "outputs": [
        {
          "output_type": "stream",
          "text": [
            "b'blTCm04C4osuS5-L-44zZCmmRe2Yf8hRfcSc5PcD-3U='\n",
            "<class 'bytes'>\n"
          ],
          "name": "stdout"
        }
      ]
    },
    {
      "cell_type": "code",
      "metadata": {
        "id": "cyHfWhjfl04l"
      },
      "source": [
        "def getMyKey():\r\n",
        "  abc= open(\"PasswordKey.key\",'rb')\r\n",
        "  return abc.read()"
      ],
      "execution_count": 8,
      "outputs": []
    },
    {
      "cell_type": "code",
      "metadata": {
        "colab": {
          "base_uri": "https://localhost:8080/"
        },
        "id": "O0SFWuoDmI41",
        "outputId": "196659ed-4490-4b4b-e69d-7157fef5882d"
      },
      "source": [
        "getMyKey()"
      ],
      "execution_count": 9,
      "outputs": [
        {
          "output_type": "execute_result",
          "data": {
            "text/plain": [
              "b'blTCm04C4osuS5-L-44zZCmmRe2Yf8hRfcSc5PcD-3U='"
            ]
          },
          "metadata": {
            "tags": []
          },
          "execution_count": 9
        }
      ]
    },
    {
      "cell_type": "code",
      "metadata": {
        "id": "DctODni8mScZ"
      },
      "source": [
        "def getContentFromUser():\r\n",
        "  return input(\"Enter thecontent you want to encrypt into your python file\")"
      ],
      "execution_count": 10,
      "outputs": []
    },
    {
      "cell_type": "code",
      "metadata": {
        "colab": {
          "base_uri": "https://localhost:8080/",
          "height": 52
        },
        "id": "roYrMdiTmln7",
        "outputId": "47045988-1b30-4893-cd17-3b9557519430"
      },
      "source": [
        "getContentFromUser()"
      ],
      "execution_count": 11,
      "outputs": [
        {
          "output_type": "stream",
          "text": [
            "Enter thecontent you want to encrypt into your python fileHii\n"
          ],
          "name": "stdout"
        },
        {
          "output_type": "execute_result",
          "data": {
            "application/vnd.google.colaboratory.intrinsic+json": {
              "type": "string"
            },
            "text/plain": [
              "'Hii'"
            ]
          },
          "metadata": {
            "tags": []
          },
          "execution_count": 11
        }
      ]
    },
    {
      "cell_type": "code",
      "metadata": {
        "id": "LMVFeUzFmw7m"
      },
      "source": [
        "def encryptMessage(message_normal):\r\n",
        "  key=getMyKey()\r\n",
        "  k=Fernet(key)\r\n",
        "  encrypted_Message=k.encrypt(message_normal)\r\n",
        "  return encrypted_Message"
      ],
      "execution_count": 12,
      "outputs": []
    },
    {
      "cell_type": "code",
      "metadata": {
        "colab": {
          "base_uri": "https://localhost:8080/"
        },
        "id": "mf0yngNgnUYx",
        "outputId": "143090ee-9990-48cf-a3b5-b9f7aa32284e"
      },
      "source": [
        "encryptMessage(b\"Hey guys I am Sneha!!\")"
      ],
      "execution_count": 13,
      "outputs": [
        {
          "output_type": "execute_result",
          "data": {
            "text/plain": [
              "b'gAAAAABf2KslmnRTzR7wbElwzHpfNuwO6tqFqetH1FPHSPlqv1_7nF3WeYLl_i1vuMUaybRCukgS8KbtawFLA4C-ncw-5usGR40UlPVqV3TxTEcf65F4suM='"
            ]
          },
          "metadata": {
            "tags": []
          },
          "execution_count": 13
        }
      ]
    },
    {
      "cell_type": "code",
      "metadata": {
        "id": "Gr89IAq7phKq"
      },
      "source": [
        "def decryptMessage(message_secret):\r\n",
        "  key=getMyKey()\r\n",
        "  k=Fernet(key)\r\n",
        "  decrypted_Message=k.decrypt(message_secret)\r\n",
        "  return decrypted_Message"
      ],
      "execution_count": 14,
      "outputs": []
    },
    {
      "cell_type": "code",
      "metadata": {
        "colab": {
          "base_uri": "https://localhost:8080/"
        },
        "id": "lK8EgAo3qE5U",
        "outputId": "f9743b9d-880a-4603-bc9a-66a091a597da"
      },
      "source": [
        "decryptMessage(b'gAAAAABf2KslmnRTzR7wbElwzHpfNuwO6tqFqetH1FPHSPlqv1_7nF3WeYLl_i1vuMUaybRCukgS8KbtawFLA4C-ncw-5usGR40UlPVqV3TxTEcf65F4suM=')"
      ],
      "execution_count": 15,
      "outputs": [
        {
          "output_type": "execute_result",
          "data": {
            "text/plain": [
              "b'Hey guys I am Sneha!!'"
            ]
          },
          "metadata": {
            "tags": []
          },
          "execution_count": 15
        }
      ]
    }
  ]
}